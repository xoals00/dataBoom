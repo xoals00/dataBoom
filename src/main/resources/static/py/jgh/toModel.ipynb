{
 "cells": [
  {
   "cell_type": "code",
   "execution_count": 1,
   "metadata": {},
   "outputs": [
    {
     "name": "stdout",
     "output_type": "stream",
     "text": [
      "{'1': '에러', '구간': 'GOLD', '캐릭': 'Olaf', 'key': '에러'}\n"
     ]
    }
   ],
   "source": [
    "#-*- coding:utf-8 -*-\n",
    "import sys\n",
    "import pandas as pd\n",
    "import numpy as np\n",
    "import matplotlib.pyplot as plt\n",
    "import json\n",
    "from sklearn.neighbors import KNeighborsClassifier\n",
    "from sklearn.preprocessing import minmax_scale\n",
    "import requests\n",
    "import pymysql\n",
    "import random\n",
    "from tqdm import tqdm\n",
    "import time\n",
    "import math\n",
    "import joblib\n",
    "\n",
    "#받은 데이터\n",
    "key= '123'\n",
    "tier = 'IRON'\n",
    "kda = 10\n",
    "totalDamageDealtToChampions = 2000\n",
    "goldEarned = 900\n",
    "teamPosition = 'TOP'\n",
    "championName = 'Olaf' #캐릭터\n",
    "tier_my = [totalDamageDealtToChampions,goldEarned,kda]\n",
    "loaded_model = joblib.load('./'+tier+'_'+teamPosition+'_'+championName+'.pkl')\n",
    "\n",
    "#데이터를 집으로 압축\n",
    "# tier_data=[[t,g,k]for t,g,k in zip(Mean_totalDamageDealtToChampions,Mean_goldEarned,allkda)]\n",
    "\n",
    "#z-정규화\n",
    "mean = np.mean(tier_my, axis=0)\n",
    "std = np.std(tier_my, axis=0)\n",
    "\n",
    "\n",
    "new = (tier_my - mean) / std\n",
    "\n",
    "\n",
    "trans={1:'승', 0:'패'}\n",
    "a = trans[loaded_model.predict([new])[0]]\n",
    "\n",
    "print(a)"
   ]
  }
 ],
 "metadata": {
  "kernelspec": {
   "display_name": "Python 3",
   "language": "python",
   "name": "python3"
  },
  "language_info": {
   "codemirror_mode": {
    "name": "ipython",
    "version": 3
   },
   "file_extension": ".py",
   "mimetype": "text/x-python",
   "name": "python",
   "nbconvert_exporter": "python",
   "pygments_lexer": "ipython3",
   "version": "3.11.5"
  }
 },
 "nbformat": 4,
 "nbformat_minor": 2
}
